{
 "cells": [
  {
   "cell_type": "markdown",
   "metadata": {},
   "source": [
    "# Forecasting  Spain's Unemployment Rate\n",
    "*Álvaro Rivera Arcelus*<br>\n",
    "<br><br>\n",
    "Forecasting  Spain's unemployment rate using the following Multivariate Forecasting Machine Learning algorithms:\n",
    "<ul>\n",
    "    <li>LSTM - Long Short Term Memory Neural Network</li>\n",
    "    <li>Facebook Prophet</li>\n",
    "<ul>"
   ]
  },
  {
   "cell_type": "markdown",
   "metadata": {},
   "source": [
    "### Data sources <br>\n",
    "We're going to use macroeconomic indicators from 1980 to 2020\n",
    "<ul>\n",
    "    <li>OECD iLibrary</li>\n",
    "    <li>World Bank</li>\n",
    "</ul>\n"
   ]
  },
  {
   "cell_type": "markdown",
   "metadata": {},
   "source": [
    "### Features<br>\n",
    "*(Factors that affect unemployment)*"
   ]
  },
  {
   "cell_type": "markdown",
   "metadata": {},
   "source": [
    "<ul>\n",
    "    <li>Annual Average Short-term interest rate</li>\n",
    "    <li>Death rate</li>\n",
    "    <li>Foreign DirectInvestment (net inflows)</li>\n",
    "    <li>Fertility rate</li>\n",
    "    <li>Infant mortality rate</li>\n",
    "    <li>GDP growth rate</li>\n",
    "    <li>Inflation rate</li> \n",
    "<ul>"
   ]
  },
  {
   "cell_type": "markdown",
   "metadata": {},
   "source": [
    "### Evaluation metrics"
   ]
  },
  {
   "cell_type": "markdown",
   "metadata": {},
   "source": [
    "We will evaluate our models via the **Root Mean Squared Error (RMSE)**"
   ]
  },
  {
   "cell_type": "markdown",
   "metadata": {},
   "source": [
    "## Data Cleansing"
   ]
  },
  {
   "cell_type": "code",
   "execution_count": 43,
   "metadata": {},
   "outputs": [],
   "source": [
    "#importing necesarry libraries \n",
    "import pandas as pd \n",
    "import numpy as np \n",
    "import matplotlib\n",
    "import matplotlib.pyplot as plt \n",
    "import seaborn as sns\n",
    "import sklearn\n",
    "from sklearn.model_selection import train_test_split\n",
    "import datetime as dt\n",
    "\n",
    "#Time Series Libraries \n",
    "import matplotlib.dates as mdates\n",
    "%matplotlib inline\n",
    "import statsmodels.api as sm\n",
    "from keras.preprocessing.sequence import TimeseriesGenerator\n",
    "\n",
    "#Tensor Flow for LSTM Forecasting\n",
    "import tensorflow as tf"
   ]
  },
  {
   "cell_type": "markdown",
   "metadata": {},
   "source": [
    "**Importing datasets**"
   ]
  },
  {
   "cell_type": "code",
   "execution_count": 44,
   "metadata": {},
   "outputs": [],
   "source": [
    "#importing all datasets\n",
    "\n",
    "#euro short-term interest rates \n",
    "interest = pd.read_csv('interest_rates_sp.csv' )\n",
    "#murder rate \n",
    "death = pd.read_csv('murder_rate_sp.csv' )\n",
    "#Foreign direct investment \n",
    "fdi = pd.read_csv('FDI_sp.csv')\n",
    "#Fertility rate\n",
    "fert = pd.read_csv('fertility_sp.csv' )\n",
    "#Infant mortaliy rate \n",
    "infant = pd.read_csv('infant_mort_rate_sp.csv' )\n",
    "#GDP \n",
    "gdp = pd.read_csv('gpd_growth_sp.csv' )\n",
    "#inflation \n",
    "inf = pd.read_csv('cpi_sp.csv' )\n",
    "#unemployment rate\n",
    "unemp = pd.read_csv('unemployment_sp.csv' )"
   ]
  },
  {
   "cell_type": "markdown",
   "metadata": {},
   "source": [
    "**Selecting only data of interest**"
   ]
  },
  {
   "cell_type": "code",
   "execution_count": 45,
   "metadata": {},
   "outputs": [],
   "source": [
    "#filtering out data previous to year 2000 and from conutries different from Spain\n",
    "set_df = [death,fdi,fert,infant,gdp,inf,unemp]\n",
    "\n",
    "#cleaning interest df (OECD format not WorldBank)\n",
    "interest.TIME = pd.to_datetime(interest.TIME, infer_datetime_format=True)\n",
    "interest['Year'] = interest.TIME.dt.year\n",
    "interest = interest[interest.LOCATION == 'ESP']\n",
    "interest = interest[interest.Year >= 1980]\n",
    "interest = interest[interest.Year < 2021]\n",
    "interest = interest[['Year','Value','TIME']]"
   ]
  },
  {
   "cell_type": "code",
   "execution_count": 46,
   "metadata": {},
   "outputs": [],
   "source": [
    "#calculating average annual interest rate\n",
    "interest = interest.groupby(['Year']).mean()"
   ]
  },
  {
   "cell_type": "code",
   "execution_count": 47,
   "metadata": {},
   "outputs": [
    {
     "data": {
      "text/html": [
       "<div>\n",
       "<style scoped>\n",
       "    .dataframe tbody tr th:only-of-type {\n",
       "        vertical-align: middle;\n",
       "    }\n",
       "\n",
       "    .dataframe tbody tr th {\n",
       "        vertical-align: top;\n",
       "    }\n",
       "\n",
       "    .dataframe thead th {\n",
       "        text-align: right;\n",
       "    }\n",
       "</style>\n",
       "<table border=\"1\" class=\"dataframe\">\n",
       "  <thead>\n",
       "    <tr style=\"text-align: right;\">\n",
       "      <th>Metric</th>\n",
       "      <th>death</th>\n",
       "      <th>fdi</th>\n",
       "      <th>fert</th>\n",
       "      <th>infant</th>\n",
       "      <th>gdp</th>\n",
       "      <th>inf</th>\n",
       "      <th>unemp</th>\n",
       "      <th>interest</th>\n",
       "    </tr>\n",
       "  </thead>\n",
       "  <tbody>\n",
       "    <tr>\n",
       "      <th>1980</th>\n",
       "      <td>7.7</td>\n",
       "      <td>1.492697e+09</td>\n",
       "      <td>2.22</td>\n",
       "      <td>12.4</td>\n",
       "      <td>2.208728</td>\n",
       "      <td>15.561902</td>\n",
       "      <td>11.40</td>\n",
       "      <td>16.144796</td>\n",
       "    </tr>\n",
       "    <tr>\n",
       "      <th>1981</th>\n",
       "      <td>7.8</td>\n",
       "      <td>1.706767e+09</td>\n",
       "      <td>2.04</td>\n",
       "      <td>11.5</td>\n",
       "      <td>-0.132469</td>\n",
       "      <td>14.549346</td>\n",
       "      <td>14.17</td>\n",
       "      <td>16.177664</td>\n",
       "    </tr>\n",
       "    <tr>\n",
       "      <th>1982</th>\n",
       "      <td>7.5</td>\n",
       "      <td>1.782685e+09</td>\n",
       "      <td>1.94</td>\n",
       "      <td>10.8</td>\n",
       "      <td>1.246462</td>\n",
       "      <td>14.415002</td>\n",
       "      <td>16.00</td>\n",
       "      <td>16.281498</td>\n",
       "    </tr>\n",
       "    <tr>\n",
       "      <th>1983</th>\n",
       "      <td>7.9</td>\n",
       "      <td>1.622389e+09</td>\n",
       "      <td>1.80</td>\n",
       "      <td>10.1</td>\n",
       "      <td>1.770116</td>\n",
       "      <td>12.174073</td>\n",
       "      <td>17.49</td>\n",
       "      <td>20.049574</td>\n",
       "    </tr>\n",
       "    <tr>\n",
       "      <th>1984</th>\n",
       "      <td>7.8</td>\n",
       "      <td>1.771830e+09</td>\n",
       "      <td>1.73</td>\n",
       "      <td>9.6</td>\n",
       "      <td>1.784688</td>\n",
       "      <td>11.280277</td>\n",
       "      <td>20.25</td>\n",
       "      <td>14.897829</td>\n",
       "    </tr>\n",
       "  </tbody>\n",
       "</table>\n",
       "</div>"
      ],
      "text/plain": [
       "Metric  death           fdi  fert  infant       gdp        inf  unemp  \\\n",
       "1980      7.7  1.492697e+09  2.22    12.4  2.208728  15.561902  11.40   \n",
       "1981      7.8  1.706767e+09  2.04    11.5 -0.132469  14.549346  14.17   \n",
       "1982      7.5  1.782685e+09  1.94    10.8  1.246462  14.415002  16.00   \n",
       "1983      7.9  1.622389e+09  1.80    10.1  1.770116  12.174073  17.49   \n",
       "1984      7.8  1.771830e+09  1.73     9.6  1.784688  11.280277  20.25   \n",
       "\n",
       "Metric   interest  \n",
       "1980    16.144796  \n",
       "1981    16.177664  \n",
       "1982    16.281498  \n",
       "1983    20.049574  \n",
       "1984    14.897829  "
      ]
     },
     "execution_count": 47,
     "metadata": {},
     "output_type": "execute_result"
    }
   ],
   "source": [
    "#Concatenating all dataframes into a single one\n",
    "main_df = pd.DataFrame(columns= inf.columns[24:65])\n",
    "for i in set_df:\n",
    "    p = i[i['Country Name'] == 'Spain']\n",
    "    p = p.iloc[:,24:65]\n",
    "    main_df = pd.concat([main_df,p])\n",
    "\n",
    "#change data type of main_df columns to integer\n",
    "main_df.columns = range(1980,2021)\n",
    "\n",
    "#concatenate with interest rate data \n",
    "main_df = pd.concat([main_df, interest.transpose()]).reset_index(drop=True)\n",
    "\n",
    "#creating new column with metrics and transposing back again\n",
    "main_df['Metric'] = ['death','fdi','fert','infant','gdp','inf','unemp','interest']\n",
    "main_df = main_df.set_index('Metric').transpose()\n",
    "#changing datatypes of all variables in dataframe\n",
    "main_df = main_df.astype('float64')\n",
    "main_df.head()"
   ]
  },
  {
   "cell_type": "markdown",
   "metadata": {},
   "source": [
    "## Exploratory Data Analysis"
   ]
  },
  {
   "cell_type": "markdown",
   "metadata": {},
   "source": [
    "**Evolution of Macroeconomic Metrics**"
   ]
  },
  {
   "cell_type": "markdown",
   "metadata": {},
   "source": [
    "From the following graph, we can get to the following conclusions: \n",
    "*   Most of the metrics have sudden changes at the end the year 2019. Definitely caused by the Covid-19 outbreak. \n",
    "*   Unemployment rate has three main peaks in 1985,1995 and 2014 whith a notorious trough from 2000  to 2006\n",
    "*   Eventhough interest rates have been constantly decreasing over the past 40 years, inflation has also seen a sharp decline. (Not applicable for year 2022 where the effect of the monetary expansionary policies taken by the European Union are starting to show bold signs of inflation)"
   ]
  },
  {
   "cell_type": "code",
   "execution_count": 48,
   "metadata": {},
   "outputs": [
    {
     "data": {
      "image/png": "[encoded data removed]",
      "text/plain": [
       "<Figure size 1440x1080 with 8 Axes>"
      ]
     },
     "metadata": {},
     "output_type": "display_data"
    }
   ],
   "source": [
    "fig, ax = plt.subplots(4,2, sharex=False, sharey=False, figsize=(20,15))\n",
    "fig.set_facecolor('white')\n",
    "#adding space between subplots\n",
    "fig.subplots_adjust(hspace=0.5)\n",
    "\n",
    "fig.suptitle('Annual Macroeconomic Metrics Spain (1980-2020)', size=14, weight='bold')\n",
    "titles=['Death Rate','Foreign Direct Investment','Fertility Rate','Infant Mortality Rate','GDP Growth Rate','Inflation','Unemployment Rate','Average Short-term Interest Rate']\n",
    "pos =0 \n",
    "for i in range(0,4):\n",
    "    for j in range(0,2):\n",
    "        ax[i,j].plot(main_df.index, main_df.iloc[:,pos])\n",
    "        ax[i,j].set_ylabel(main_df.columns[pos])\n",
    "        ax[i,j].set_title(titles[pos])\n",
    "        ax[i,j].set_xlabel('Year')\n",
    "        pos +=1"
   ]
  },
  {
   "cell_type": "markdown",
   "metadata": {},
   "source": [
    "**Correlation Matrix**"
   ]
  },
  {
   "cell_type": "markdown",
   "metadata": {},
   "source": [
    "The heatmap below shows the correlation between all variables (features) in our dataset. <br>\n",
    "We can see obvious correlations between variables such as *inflation* and *interest rates* or even *fertility* and *infant mortality rate*.<br>\n",
    "Nevertheless it is important to always **recall that** Correlation $\\neq$ Causation"
   ]
  },
  {
   "cell_type": "code",
   "execution_count": 49,
   "metadata": {},
   "outputs": [
    {
     "data": {
      "text/plain": [
       "[Text(0.5, 1.0, 'Correlation Heatmap')]"
      ]
     },
     "execution_count": 49,
     "metadata": {},
     "output_type": "execute_result"
    },
    {
     "data": {
      "image/png": "[encoded data removed]",
      "text/plain": [
       "<Figure size 792x648 with 2 Axes>"
      ]
     },
     "metadata": {
      "needs_background": "light"
     },
     "output_type": "display_data"
    }
   ],
   "source": [
    "corr = main_df.corr()\n",
    "\n",
    "# Generate a mask for the upper triangle\n",
    "mask = np.triu(np.ones_like(corr, dtype=bool))\n",
    "\n",
    "# Set up the matplotlib figure\n",
    "f, ax = plt.subplots(figsize=(11, 9))\n",
    "sns.set(rc={'axes.facecolor':'white', 'figure.facecolor':'white', \"figure.figsize\":(14, 6)})\n",
    "# Generate a custom diverging colormap\n",
    "cmap = sns.diverging_palette(230, 20, as_cmap=True)\n",
    "sns.heatmap(corr, mask=mask, cmap=cmap, vmax=.3, center=0,\n",
    "            square=True, linewidths=.5, cbar_kws={\"shrink\": .5}).set(title='Correlation Heatmap')"
   ]
  },
  {
   "cell_type": "markdown",
   "metadata": {},
   "source": [
    "## Data Preprocessing"
   ]
  },
  {
   "cell_type": "markdown",
   "metadata": {},
   "source": [
    "Given the quality of the data we're using and the types of variables  we have, there is not need for any data preprocessing process such as *Feature Engineering*,*Mean imputation* or *Encoding*"
   ]
  },
  {
   "cell_type": "markdown",
   "metadata": {},
   "source": [
    "Nevertheless, we will require to use a correlation matrix as our method for **feature selection**"
   ]
  },
  {
   "cell_type": "markdown",
   "metadata": {},
   "source": [
    "### Feature Selection"
   ]
  },
  {
   "cell_type": "markdown",
   "metadata": {},
   "source": [
    "**Note:** it's insightful to see that the variable with the lowest correlation with unemployment rate is *short-term interest rate*. (Completely against Phillips Curve Theory)"
   ]
  },
  {
   "cell_type": "code",
   "execution_count": 50,
   "metadata": {},
   "outputs": [
    {
     "data": {
      "text/plain": [
       "Metric\n",
       "death   -0.110891\n",
       "fdi     -0.359949\n",
       "fert    -0.149657\n",
       "gdp     -0.196032\n",
       "inf     -0.111079\n",
       "unemp    1.000000\n",
       "Name: unemp, dtype: float64"
      ]
     },
     "execution_count": 50,
     "metadata": {},
     "output_type": "execute_result"
    }
   ],
   "source": [
    "#selecting feature whose correlation with the target variable is greater than 0.1 \n",
    "#this removes only one feature --> interest\n",
    "corr[abs(corr['unemp'])>0.1].unemp"
   ]
  },
  {
   "cell_type": "code",
   "execution_count": 51,
   "metadata": {},
   "outputs": [],
   "source": [
    "#new df for modelling \n",
    "df_train = main_df.drop(['interest'], axis=1)\n",
    "#rearranging columns \n",
    "df_train = df_train[['unemp','death', 'fdi', 'fert', 'infant', 'gdp', 'inf']]"
   ]
  },
  {
   "cell_type": "markdown",
   "metadata": {},
   "source": [
    "### Feature Scaling"
   ]
  },
  {
   "cell_type": "code",
   "execution_count": 52,
   "metadata": {},
   "outputs": [],
   "source": [
    "from sklearn.preprocessing import StandardScaler\n",
    "scaler = StandardScaler()\n",
    "scaler.fit(df_train)\n",
    "df_trains_scale = scaler.transform(df_train)"
   ]
  },
  {
   "cell_type": "markdown",
   "metadata": {},
   "source": [
    "## Model Selection"
   ]
  },
  {
   "cell_type": "markdown",
   "metadata": {},
   "source": [
    "We will be applying **Multi-Step Forecasting** with LSTM network"
   ]
  },
  {
   "cell_type": "markdown",
   "metadata": {},
   "source": [
    "### LSTM Neural Network"
   ]
  },
  {
   "cell_type": "code",
   "execution_count": 53,
   "metadata": {},
   "outputs": [
    {
     "data": {
      "text/plain": [
       "DatetimeIndex(['1980-01-01', '1981-01-01', '1982-01-01', '1983-01-01',\n",
       "               '1984-01-01', '1985-01-01', '1986-01-01', '1987-01-01',\n",
       "               '1988-01-01', '1989-01-01', '1990-01-01', '1991-01-01',\n",
       "               '1992-01-01', '1993-01-01', '1994-01-01', '1995-01-01',\n",
       "               '1996-01-01', '1997-01-01', '1998-01-01', '1999-01-01',\n",
       "               '2000-01-01', '2001-01-01', '2002-01-01', '2003-01-01',\n",
       "               '2004-01-01', '2005-01-01', '2006-01-01', '2007-01-01',\n",
       "               '2008-01-01', '2009-01-01', '2010-01-01', '2011-01-01',\n",
       "               '2012-01-01', '2013-01-01', '2014-01-01', '2015-01-01',\n",
       "               '2016-01-01', '2017-01-01', '2018-01-01', '2019-01-01',\n",
       "               '2020-01-01'],\n",
       "              dtype='datetime64[ns]', freq=None)"
      ]
     },
     "execution_count": 53,
     "metadata": {},
     "output_type": "execute_result"
    }
   ],
   "source": [
    "#extracting training dates as a series object for future model performance evaluation\n",
    "train_dates = pd.to_datetime(main_df.index, format='%Y')\n",
    "train_dates"
   ]
  },
  {
   "cell_type": "code",
   "execution_count": 54,
   "metadata": {},
   "outputs": [
    {
     "name": "stdout",
     "output_type": "stream",
     "text": [
      "train X shape == (27, 14, 7).\n",
      "train y shape == (27, 1).\n"
     ]
    }
   ],
   "source": [
    "from keras.models import Sequential \n",
    "from keras.layers import LSTM\n",
    "from keras.layers import Dense, Dropout\n",
    "\n",
    "#we need a training set of feaures X and a training set for the target variable Y \n",
    "train_x=[]\n",
    "train_y=[]\n",
    "\n",
    "#we are telling the computer to go from timeframe 1 to 14 (X) and predict 15 (Y)\n",
    "#next iteration... 2 to 15 (X) and predict 16 (Y) \n",
    "n_future=1\n",
    "n_past=14\n",
    "\n",
    "for i in range(n_past, len(df_trains_scale)-n_future+1):\n",
    "    train_x.append(df_trains_scale[i - n_past:i, 0:df_train.shape[1]])\n",
    "    train_y.append(df_trains_scale[i + n_future -1:i + n_future, 0])\n",
    "\n",
    "train_x, train_y = np.array(train_x), np.array(train_y)\n",
    "\n",
    "#14 means  the 14 days we're looking back to, and 7 the number of features we're using\n",
    "\n",
    "#train_X is a hypermatrix of 27x7 with 14 layers \n",
    "print('train X shape == {}.'.format(train_x.shape))\n",
    "print('train y shape == {}.'.format(train_y.shape))\n"
   ]
  },
  {
   "cell_type": "markdown",
   "metadata": {},
   "source": [
    "Setting up Neural Network"
   ]
  },
  {
   "cell_type": "code",
   "execution_count": 55,
   "metadata": {},
   "outputs": [],
   "source": [
    "model = Sequential()\n",
    "#64 units with a 14x7 matrix\n",
    "#we add return sequences so that the output  of the first LSTM can be used as input fot the second LSTM\n",
    "\n",
    "#LAYER 1\n",
    "model.add(LSTM(64, activation='relu', input_shape=(train_x.shape[1], train_x.shape[2]), return_sequences=True))\n",
    "#LAYER 2\n",
    "model.add(LSTM(32, activation='relu', return_sequences=False))\n",
    "model.add(Dropout(0.2))\n",
    "model.add(Dense(train_y.shape[1]))"
   ]
  },
  {
   "cell_type": "markdown",
   "metadata": {},
   "source": [
    "Compiling Model<br>\n",
    "*We define our loss function as the MSE of our prediction. (Function we wish to minimize)*"
   ]
  },
  {
   "cell_type": "code",
   "execution_count": 56,
   "metadata": {},
   "outputs": [
    {
     "name": "stdout",
     "output_type": "stream",
     "text": [
      "Model: \"sequential_1\"\n",
      "_________________________________________________________________\n",
      " Layer (type)                Output Shape              Param #   \n",
      "=================================================================\n",
      " lstm_2 (LSTM)               (None, 14, 64)            18432     \n",
      "                                                                 \n",
      " lstm_3 (LSTM)               (None, 32)                12416     \n",
      "                                                                 \n",
      " dropout_1 (Dropout)         (None, 32)                0         \n",
      "                                                                 \n",
      " dense_1 (Dense)             (None, 1)                 33        \n",
      "                                                                 \n",
      "=================================================================\n",
      "Total params: 30,881\n",
      "Trainable params: 30,881\n",
      "Non-trainable params: 0\n",
      "_________________________________________________________________\n"
     ]
    }
   ],
   "source": [
    "#we want to minimize the loss function MSE by using the optimizer 'adam'\n",
    "model.compile(optimizer='adam', loss='mse')\n",
    "model.summary()"
   ]
  },
  {
   "cell_type": "markdown",
   "metadata": {},
   "source": [
    "Fitting model"
   ]
  },
  {
   "cell_type": "markdown",
   "metadata": {},
   "source": [
    "**Model Performance**<br>\n",
    "*   ***Validation Loss*** : Error of deep learning model on the validation set\n",
    "*   ***Training Loss*** : Error of deep learning model on the training set\n",
    "<br>\n",
    "\n",
    "*   If *validation loss* > *training loss* $\\rightarrow$ **overfitting** (model is picking up the noise)\n",
    "*   If *validation loss* < *training loss* $\\rightarrow$ **undefitting** (model is not able to explain the data correctly)\n",
    "    *   *Solution underfitting #1:* train the model more times, more epochs\n",
    "    *   *Solution underfitting #2:* increase size of the data set"
   ]
  },
  {
   "cell_type": "code",
   "execution_count": 57,
   "metadata": {},
   "outputs": [
    {
     "name": "stdout",
     "output_type": "stream",
     "text": [
      "Epoch 1/10\n",
      "2/2 [==============================] - 2s 219ms/step - loss: 1.3918 - val_loss: 0.5745\n",
      "Epoch 2/10\n",
      "2/2 [==============================] - 0s 22ms/step - loss: 1.3296 - val_loss: 0.6249\n",
      "Epoch 3/10\n",
      "2/2 [==============================] - 0s 22ms/step - loss: 1.2768 - val_loss: 0.6779\n",
      "Epoch 4/10\n",
      "2/2 [==============================] - 0s 21ms/step - loss: 1.2137 - val_loss: 0.7469\n",
      "Epoch 5/10\n",
      "2/2 [==============================] - 0s 22ms/step - loss: 1.1050 - val_loss: 0.8238\n",
      "Epoch 6/10\n",
      "2/2 [==============================] - 0s 22ms/step - loss: 1.0775 - val_loss: 0.9269\n",
      "Epoch 7/10\n",
      "2/2 [==============================] - 0s 21ms/step - loss: 0.9452 - val_loss: 1.0801\n",
      "Epoch 8/10\n",
      "2/2 [==============================] - 0s 22ms/step - loss: 0.8468 - val_loss: 1.2270\n",
      "Epoch 9/10\n",
      "2/2 [==============================] - 0s 22ms/step - loss: 0.8812 - val_loss: 1.2096\n",
      "Epoch 10/10\n",
      "2/2 [==============================] - 0s 22ms/step - loss: 0.7389 - val_loss: 1.0805\n"
     ]
    },
    {
     "data": {
      "image/png": "[encoded data removed]",
      "text/plain": [
       "<Figure size 1008x432 with 1 Axes>"
      ]
     },
     "metadata": {},
     "output_type": "display_data"
    }
   ],
   "source": [
    "#we'll train the model 10 times (10 epochs)\n",
    "#we use 10 epochs because we can see in the graph how 10 epochs minimizes the loss of the model \n",
    "#while also giving preventing over or underfitting\n",
    "history = model.fit(train_x, train_y, epochs=10, batch_size=16, validation_split=0.1, verbose=1)\n",
    "plt.plot(history.history['loss'], label='Training  loss')\n",
    "plt.title('Validation and training loss', size=14)\n",
    "plt.ylabel('Loss', weight='bold')\n",
    "plt.xlabel('Epochs', weight='bold')\n",
    "plt.plot(history.history['val_loss'], label='Validation loss')\n",
    "plt.grid()\n",
    "plt.legend()\n",
    "plt.show()"
   ]
  },
  {
   "cell_type": "markdown",
   "metadata": {},
   "source": [
    "**Forecasting**"
   ]
  },
  {
   "cell_type": "code",
   "execution_count": 58,
   "metadata": {},
   "outputs": [
    {
     "name": "stdout",
     "output_type": "stream",
     "text": [
      "1/1 [==============================] - 0s 186ms/step\n"
     ]
    }
   ],
   "source": [
    "n_periods = 5\n",
    "#creating timestamp with dates we want to predict\n",
    "forecast_period_dates = pd.date_range(list(train_dates)[-1], periods=n_periods, freq='1y').tolist()\n",
    "forecast = model.predict(train_x[-n_periods:])"
   ]
  },
  {
   "cell_type": "code",
   "execution_count": 59,
   "metadata": {},
   "outputs": [
    {
     "name": "stdout",
     "output_type": "stream",
     "text": [
      "1/1 [==============================] - 0s 15ms/step\n"
     ]
    },
    {
     "data": {
      "text/plain": [
       "array([[-0.32225168],\n",
       "       [-0.45389515],\n",
       "       [-0.54069763],\n",
       "       [-0.58436143],\n",
       "       [-0.59865415],\n",
       "       [-0.59246147],\n",
       "       [-0.56822014],\n",
       "       [-0.53777635],\n",
       "       [-0.49341315],\n",
       "       [-0.3975373 ],\n",
       "       [-0.2380508 ],\n",
       "       [-0.03075149],\n",
       "       [ 0.17575511],\n",
       "       [ 0.37086105],\n",
       "       [ 0.56588435],\n",
       "       [ 0.74044806],\n",
       "       [ 0.8427184 ],\n",
       "       [ 0.8274139 ],\n",
       "       [ 0.7564819 ],\n",
       "       [ 0.6481589 ],\n",
       "       [ 0.53642344],\n",
       "       [ 0.43390104]], dtype=float32)"
      ]
     },
     "execution_count": 59,
     "metadata": {},
     "output_type": "execute_result"
    }
   ],
   "source": [
    "model.predict(train_x[n_periods:])"
   ]
  },
  {
   "cell_type": "code",
   "execution_count": 60,
   "metadata": {},
   "outputs": [
    {
     "data": {
      "text/plain": [
       "array([21.254646, 20.914808, 20.395832, 19.860504, 19.369318],\n",
       "      dtype=float32)"
      ]
     },
     "execution_count": 60,
     "metadata": {},
     "output_type": "execute_result"
    }
   ],
   "source": [
    "#scaling values to original scale\n",
    "forecast_cop = np.repeat(forecast, df_train.shape[1], axis=1)\n",
    "y_pred = scaler.inverse_transform(forecast_cop)[:,0]\n",
    "#final forecast\n",
    "y_pred"
   ]
  },
  {
   "cell_type": "markdown",
   "metadata": {},
   "source": [
    "**Visualizing results**"
   ]
  },
  {
   "cell_type": "code",
   "execution_count": 61,
   "metadata": {},
   "outputs": [],
   "source": [
    "#converting timestamp to date\n",
    "forecast_dates = []\n",
    "for i in forecast_period_dates:\n",
    "    forecast_dates.append(i.date())\n",
    "\n",
    "#creating dataframe of forecasted values \n",
    "df_forecast = pd.DataFrame({'Year':np.array(forecast_dates), 'unemp':y_pred})\n",
    "#set correct datetime format \n",
    "df_forecast['Year'] = pd.to_datetime(df_forecast.Year, infer_datetime_format=True)\n",
    "\n",
    "#set dataset with original data \n",
    "original = main_df['unemp'].reset_index().rename(columns={'index':'Year'})\n",
    "original['Year'] = pd.to_datetime(original['Year'], format='%Y')"
   ]
  },
  {
   "cell_type": "code",
   "execution_count": 82,
   "metadata": {},
   "outputs": [
    {
     "data": {
      "image/png": "[encoded data removed]",
      "text/plain": [
       "<Figure size 1008x432 with 1 Axes>"
      ]
     },
     "metadata": {},
     "output_type": "display_data"
    }
   ],
   "source": [
    "sns.lineplot(x=original['Year'], y= original.unemp).set(title=\"Spain's Unemplyment Rate using LSTM (5 periods)\")\n",
    "sns.lineplot(x=df_forecast['Year'], y=df_forecast['unemp'])\n",
    "sns.set_style('darkgrid')\n",
    "plt.xlabel('Date')\n",
    "plt.ylabel('Unemployment rate')\n",
    "plt.grid()"
   ]
  },
  {
   "cell_type": "code",
   "execution_count": 63,
   "metadata": {},
   "outputs": [
    {
     "data": {
      "text/html": [
       "<div>\n",
       "<style scoped>\n",
       "    .dataframe tbody tr th:only-of-type {\n",
       "        vertical-align: middle;\n",
       "    }\n",
       "\n",
       "    .dataframe tbody tr th {\n",
       "        vertical-align: top;\n",
       "    }\n",
       "\n",
       "    .dataframe thead th {\n",
       "        text-align: right;\n",
       "    }\n",
       "</style>\n",
       "<table border=\"1\" class=\"dataframe\">\n",
       "  <thead>\n",
       "    <tr style=\"text-align: right;\">\n",
       "      <th></th>\n",
       "      <th>Year</th>\n",
       "      <th>unemp</th>\n",
       "    </tr>\n",
       "  </thead>\n",
       "  <tbody>\n",
       "    <tr>\n",
       "      <th>0</th>\n",
       "      <td>2020-12-31</td>\n",
       "      <td>21.254646</td>\n",
       "    </tr>\n",
       "    <tr>\n",
       "      <th>1</th>\n",
       "      <td>2021-12-31</td>\n",
       "      <td>20.914808</td>\n",
       "    </tr>\n",
       "    <tr>\n",
       "      <th>2</th>\n",
       "      <td>2022-12-31</td>\n",
       "      <td>20.395832</td>\n",
       "    </tr>\n",
       "    <tr>\n",
       "      <th>3</th>\n",
       "      <td>2023-12-31</td>\n",
       "      <td>19.860504</td>\n",
       "    </tr>\n",
       "    <tr>\n",
       "      <th>4</th>\n",
       "      <td>2024-12-31</td>\n",
       "      <td>19.369318</td>\n",
       "    </tr>\n",
       "  </tbody>\n",
       "</table>\n",
       "</div>"
      ],
      "text/plain": [
       "        Year      unemp\n",
       "0 2020-12-31  21.254646\n",
       "1 2021-12-31  20.914808\n",
       "2 2022-12-31  20.395832\n",
       "3 2023-12-31  19.860504\n",
       "4 2024-12-31  19.369318"
      ]
     },
     "execution_count": 63,
     "metadata": {},
     "output_type": "execute_result"
    }
   ],
   "source": [
    "df_forecast"
   ]
  },
  {
   "cell_type": "markdown",
   "metadata": {},
   "source": [
    "**Model Performance**<br>\n",
    "*evaluate()* method from tensor wich measures de loss of our model. (RMSE)"
   ]
  },
  {
   "cell_type": "code",
   "execution_count": 64,
   "metadata": {},
   "outputs": [
    {
     "name": "stdout",
     "output_type": "stream",
     "text": [
      "Train loss:  0.6407830119132996\n",
      "RMSE: 0.800489232852822\n"
     ]
    }
   ],
   "source": [
    "results = model.evaluate(train_x, train_y, verbose=0)\n",
    "print(\"Train loss: \", results)\n",
    "#our validation function was MSE --> sqrt(MSE) = RMSE\n",
    "print(\"RMSE: \" +str(np.sqrt(results)))"
   ]
  },
  {
   "cell_type": "markdown",
   "metadata": {},
   "source": [
    "________________________"
   ]
  },
  {
   "cell_type": "markdown",
   "metadata": {},
   "source": [
    "### Facebook Prophet"
   ]
  },
  {
   "cell_type": "markdown",
   "metadata": {},
   "source": [
    "We are going to forecast every single regressor and then apply our results to the final model to forcast our target variable \"Unemployment\"<br>\n",
    "This unconventional process may cause less accurate results as there will be errors within everty forecast we make for every regressor. "
   ]
  },
  {
   "cell_type": "code",
   "execution_count": 65,
   "metadata": {},
   "outputs": [],
   "source": [
    "from prophet import Prophet"
   ]
  },
  {
   "cell_type": "code",
   "execution_count": 66,
   "metadata": {},
   "outputs": [],
   "source": [
    "#changing time and target variable names for FB Prophet algorithm\n",
    "df_train = df_train.reset_index().rename(columns={'index':'ds','unemp':'y'})"
   ]
  },
  {
   "cell_type": "code",
   "execution_count": 67,
   "metadata": {},
   "outputs": [],
   "source": [
    "#changing date format to date variable \n",
    "df_train['ds']=pd.to_datetime(df_train.ds, format='%Y')"
   ]
  },
  {
   "cell_type": "code",
   "execution_count": 68,
   "metadata": {},
   "outputs": [
    {
     "data": {
      "text/plain": [
       "Metric\n",
       "ds        2020-01-01 00:00:00\n",
       "y                       15.53\n",
       "death                    10.4\n",
       "fdi             33735353773.0\n",
       "fert                     1.23\n",
       "infant                    2.7\n",
       "gdp                -10.822886\n",
       "inf                 -0.322753\n",
       "Name: 40, dtype: object"
      ]
     },
     "execution_count": 68,
     "metadata": {},
     "output_type": "execute_result"
    }
   ],
   "source": [
    "df_train.iloc[-1,:]"
   ]
  },
  {
   "cell_type": "code",
   "execution_count": 69,
   "metadata": {},
   "outputs": [
    {
     "name": "stderr",
     "output_type": "stream",
     "text": [
      "17:23:31 - cmdstanpy - INFO - Chain [1] start processing\n",
      "17:23:31 - cmdstanpy - INFO - Chain [1] done processing\n",
      "17:23:32 - cmdstanpy - INFO - Chain [1] start processing\n",
      "17:23:32 - cmdstanpy - INFO - Chain [1] done processing\n",
      "17:23:33 - cmdstanpy - INFO - Chain [1] start processing\n",
      "17:23:33 - cmdstanpy - INFO - Chain [1] done processing\n",
      "17:23:34 - cmdstanpy - INFO - Chain [1] start processing\n",
      "17:23:34 - cmdstanpy - INFO - Chain [1] done processing\n",
      "17:23:35 - cmdstanpy - INFO - Chain [1] start processing\n",
      "17:23:35 - cmdstanpy - INFO - Chain [1] done processing\n",
      "17:23:36 - cmdstanpy - INFO - Chain [1] start processing\n",
      "17:23:36 - cmdstanpy - INFO - Chain [1] done processing\n"
     ]
    }
   ],
   "source": [
    "#forecasting every single regressor in the next 5 periods (5 years) using fbprophet \n",
    "#creating df with future periods \n",
    "future = pd.DataFrame()\n",
    "future['ds'] = pd.date_range('2021-01-01',periods=5, freq='Y')\n",
    "\n",
    "cols = ['death', 'fdi', 'fert', 'infant', 'gdp', 'inf']\n",
    "regressor_pred = pd.DataFrame()\n",
    "\n",
    "for metric in cols: \n",
    "    model = model = Prophet(interval_width=0.9)\n",
    "    data = df_train[['ds',metric]].rename(columns={metric:'y'})\n",
    "    model.fit(data)\n",
    "    regressor_pred[metric] = model.predict(future)['yhat']"
   ]
  },
  {
   "cell_type": "markdown",
   "metadata": {},
   "source": [
    "**Note** it's clear that the predictions the model makes aren't accurate as we are trying to forecast an economic metric which is affected by multiple other unpredictable factors. (For example: wars, reactions in financial markets, political decisions, etc.)"
   ]
  },
  {
   "cell_type": "code",
   "execution_count": 70,
   "metadata": {},
   "outputs": [
    {
     "data": {
      "text/html": [
       "<div>\n",
       "<style scoped>\n",
       "    .dataframe tbody tr th:only-of-type {\n",
       "        vertical-align: middle;\n",
       "    }\n",
       "\n",
       "    .dataframe tbody tr th {\n",
       "        vertical-align: top;\n",
       "    }\n",
       "\n",
       "    .dataframe thead th {\n",
       "        text-align: right;\n",
       "    }\n",
       "</style>\n",
       "<table border=\"1\" class=\"dataframe\">\n",
       "  <thead>\n",
       "    <tr style=\"text-align: right;\">\n",
       "      <th></th>\n",
       "      <th>death</th>\n",
       "      <th>fdi</th>\n",
       "      <th>fert</th>\n",
       "      <th>infant</th>\n",
       "      <th>gdp</th>\n",
       "      <th>inf</th>\n",
       "      <th>ds</th>\n",
       "    </tr>\n",
       "  </thead>\n",
       "  <tbody>\n",
       "    <tr>\n",
       "      <th>0</th>\n",
       "      <td>9.350880</td>\n",
       "      <td>5.146264e+10</td>\n",
       "      <td>1.316221</td>\n",
       "      <td>2.592069</td>\n",
       "      <td>-0.655349</td>\n",
       "      <td>-1.401166</td>\n",
       "      <td>2021-12-31</td>\n",
       "    </tr>\n",
       "    <tr>\n",
       "      <th>1</th>\n",
       "      <td>9.532653</td>\n",
       "      <td>5.360658e+10</td>\n",
       "      <td>1.363732</td>\n",
       "      <td>2.585266</td>\n",
       "      <td>-1.199619</td>\n",
       "      <td>-1.476451</td>\n",
       "      <td>2022-12-31</td>\n",
       "    </tr>\n",
       "    <tr>\n",
       "      <th>2</th>\n",
       "      <td>9.743304</td>\n",
       "      <td>5.564231e+10</td>\n",
       "      <td>1.424301</td>\n",
       "      <td>2.584491</td>\n",
       "      <td>-1.831960</td>\n",
       "      <td>-1.526287</td>\n",
       "      <td>2023-12-31</td>\n",
       "    </tr>\n",
       "    <tr>\n",
       "      <th>3</th>\n",
       "      <td>9.272816</td>\n",
       "      <td>5.371503e+10</td>\n",
       "      <td>1.233344</td>\n",
       "      <td>2.458463</td>\n",
       "      <td>-0.520776</td>\n",
       "      <td>-2.479514</td>\n",
       "      <td>2024-12-31</td>\n",
       "    </tr>\n",
       "    <tr>\n",
       "      <th>4</th>\n",
       "      <td>9.425412</td>\n",
       "      <td>5.596622e+10</td>\n",
       "      <td>1.267710</td>\n",
       "      <td>2.445532</td>\n",
       "      <td>-0.976226</td>\n",
       "      <td>-2.580575</td>\n",
       "      <td>2025-12-31</td>\n",
       "    </tr>\n",
       "  </tbody>\n",
       "</table>\n",
       "</div>"
      ],
      "text/plain": [
       "      death           fdi      fert    infant       gdp       inf         ds\n",
       "0  9.350880  5.146264e+10  1.316221  2.592069 -0.655349 -1.401166 2021-12-31\n",
       "1  9.532653  5.360658e+10  1.363732  2.585266 -1.199619 -1.476451 2022-12-31\n",
       "2  9.743304  5.564231e+10  1.424301  2.584491 -1.831960 -1.526287 2023-12-31\n",
       "3  9.272816  5.371503e+10  1.233344  2.458463 -0.520776 -2.479514 2024-12-31\n",
       "4  9.425412  5.596622e+10  1.267710  2.445532 -0.976226 -2.580575 2025-12-31"
      ]
     },
     "execution_count": 70,
     "metadata": {},
     "output_type": "execute_result"
    }
   ],
   "source": [
    "regressor_pred['ds'] = future\n",
    "regressor_pred"
   ]
  },
  {
   "cell_type": "code",
   "execution_count": 71,
   "metadata": {},
   "outputs": [
    {
     "name": "stderr",
     "output_type": "stream",
     "text": [
      "17:23:37 - cmdstanpy - INFO - Chain [1] start processing\n",
      "17:23:37 - cmdstanpy - INFO - Chain [1] done processing\n"
     ]
    },
    {
     "data": {
      "text/plain": [
       "<prophet.forecaster.Prophet at 0x1cf5e9acdc0>"
      ]
     },
     "execution_count": 71,
     "metadata": {},
     "output_type": "execute_result"
    }
   ],
   "source": [
    "#Creating an instance of fb prophet \n",
    "model = Prophet(interval_width=0.9)\n",
    "model.add_regressor('death', standardize=True)\n",
    "model.add_regressor('fdi', standardize=True)\n",
    "model.add_regressor('fert', standardize=True)\n",
    "model.add_regressor('infant', standardize=True)\n",
    "model.add_regressor('gdp', standardize=True)\n",
    "model.add_regressor('inf', standardize=True)\n",
    "model.fit(df_train)"
   ]
  },
  {
   "cell_type": "code",
   "execution_count": 72,
   "metadata": {},
   "outputs": [
    {
     "data": {
      "text/html": [
       "<div>\n",
       "<style scoped>\n",
       "    .dataframe tbody tr th:only-of-type {\n",
       "        vertical-align: middle;\n",
       "    }\n",
       "\n",
       "    .dataframe tbody tr th {\n",
       "        vertical-align: top;\n",
       "    }\n",
       "\n",
       "    .dataframe thead th {\n",
       "        text-align: right;\n",
       "    }\n",
       "</style>\n",
       "<table border=\"1\" class=\"dataframe\">\n",
       "  <thead>\n",
       "    <tr style=\"text-align: right;\">\n",
       "      <th></th>\n",
       "      <th>ds</th>\n",
       "      <th>yhat</th>\n",
       "    </tr>\n",
       "  </thead>\n",
       "  <tbody>\n",
       "    <tr>\n",
       "      <th>0</th>\n",
       "      <td>1980-01-01</td>\n",
       "      <td>12.093895</td>\n",
       "    </tr>\n",
       "    <tr>\n",
       "      <th>1</th>\n",
       "      <td>1981-01-01</td>\n",
       "      <td>13.972523</td>\n",
       "    </tr>\n",
       "    <tr>\n",
       "      <th>2</th>\n",
       "      <td>1982-01-01</td>\n",
       "      <td>16.577561</td>\n",
       "    </tr>\n",
       "    <tr>\n",
       "      <th>3</th>\n",
       "      <td>1983-01-01</td>\n",
       "      <td>16.448457</td>\n",
       "    </tr>\n",
       "    <tr>\n",
       "      <th>4</th>\n",
       "      <td>1984-01-01</td>\n",
       "      <td>18.704716</td>\n",
       "    </tr>\n",
       "  </tbody>\n",
       "</table>\n",
       "</div>"
      ],
      "text/plain": [
       "          ds       yhat\n",
       "0 1980-01-01  12.093895\n",
       "1 1981-01-01  13.972523\n",
       "2 1982-01-01  16.577561\n",
       "3 1983-01-01  16.448457\n",
       "4 1984-01-01  18.704716"
      ]
     },
     "execution_count": 72,
     "metadata": {},
     "output_type": "execute_result"
    }
   ],
   "source": [
    "df_test = df_train.loc[:, df_train.columns != 'y']\n",
    "forecast_1 = model.predict(df_test)\n",
    "forecast_1 = forecast_1[['ds','yhat']]\n",
    "forecast_1.head()"
   ]
  },
  {
   "cell_type": "code",
   "execution_count": 73,
   "metadata": {},
   "outputs": [
    {
     "data": {
      "text/html": [
       "<div>\n",
       "<style scoped>\n",
       "    .dataframe tbody tr th:only-of-type {\n",
       "        vertical-align: middle;\n",
       "    }\n",
       "\n",
       "    .dataframe tbody tr th {\n",
       "        vertical-align: top;\n",
       "    }\n",
       "\n",
       "    .dataframe thead th {\n",
       "        text-align: right;\n",
       "    }\n",
       "</style>\n",
       "<table border=\"1\" class=\"dataframe\">\n",
       "  <thead>\n",
       "    <tr style=\"text-align: right;\">\n",
       "      <th></th>\n",
       "      <th>yhat</th>\n",
       "      <th>ds</th>\n",
       "      <th>y</th>\n",
       "      <th>death</th>\n",
       "      <th>fdi</th>\n",
       "      <th>fert</th>\n",
       "      <th>infant</th>\n",
       "      <th>gdp</th>\n",
       "      <th>inf</th>\n",
       "    </tr>\n",
       "  </thead>\n",
       "  <tbody>\n",
       "    <tr>\n",
       "      <th>0</th>\n",
       "      <td>12.093895</td>\n",
       "      <td>1980-01-01</td>\n",
       "      <td>11.40</td>\n",
       "      <td>7.7</td>\n",
       "      <td>1.492697e+09</td>\n",
       "      <td>2.22</td>\n",
       "      <td>12.4</td>\n",
       "      <td>2.208728</td>\n",
       "      <td>15.561902</td>\n",
       "    </tr>\n",
       "    <tr>\n",
       "      <th>1</th>\n",
       "      <td>13.972523</td>\n",
       "      <td>1981-01-01</td>\n",
       "      <td>14.17</td>\n",
       "      <td>7.8</td>\n",
       "      <td>1.706767e+09</td>\n",
       "      <td>2.04</td>\n",
       "      <td>11.5</td>\n",
       "      <td>-0.132469</td>\n",
       "      <td>14.549346</td>\n",
       "    </tr>\n",
       "    <tr>\n",
       "      <th>2</th>\n",
       "      <td>16.577561</td>\n",
       "      <td>1982-01-01</td>\n",
       "      <td>16.00</td>\n",
       "      <td>7.5</td>\n",
       "      <td>1.782685e+09</td>\n",
       "      <td>1.94</td>\n",
       "      <td>10.8</td>\n",
       "      <td>1.246462</td>\n",
       "      <td>14.415002</td>\n",
       "    </tr>\n",
       "  </tbody>\n",
       "</table>\n",
       "</div>"
      ],
      "text/plain": [
       "        yhat         ds      y  death           fdi  fert  infant       gdp  \\\n",
       "0  12.093895 1980-01-01  11.40    7.7  1.492697e+09  2.22    12.4  2.208728   \n",
       "1  13.972523 1981-01-01  14.17    7.8  1.706767e+09  2.04    11.5 -0.132469   \n",
       "2  16.577561 1982-01-01  16.00    7.5  1.782685e+09  1.94    10.8  1.246462   \n",
       "\n",
       "         inf  \n",
       "0  15.561902  \n",
       "1  14.549346  \n",
       "2  14.415002  "
      ]
     },
     "execution_count": 73,
     "metadata": {},
     "output_type": "execute_result"
    }
   ],
   "source": [
    "#comparing predicted values vs true values \n",
    "final_pred = pd.concat((forecast_1.yhat, df_train), axis=1)\n",
    "final_pred.head(3)"
   ]
  },
  {
   "cell_type": "code",
   "execution_count": 74,
   "metadata": {},
   "outputs": [
    {
     "name": "stdout",
     "output_type": "stream",
     "text": [
      "--------------------\n",
      "RMSE: 3.19\n",
      "MAE: 10.16\n",
      "--------------------\n"
     ]
    }
   ],
   "source": [
    "#calculating RMSE \n",
    "def rmse(df): return np.sqrt(sum((df.yhat - df.y)**2)/len(df))\n",
    "\n",
    "metric_proph = round(rmse(final_pred),2)\n",
    "print('----------'*2)\n",
    "print('RMSE: ' + str(metric_proph))\n",
    "print('MAE: ' + str(round((rmse(final_pred)**2),2)))\n",
    "print('----------'*2)"
   ]
  },
  {
   "cell_type": "code",
   "execution_count": 75,
   "metadata": {},
   "outputs": [
    {
     "data": {
      "text/html": [
       "<div>\n",
       "<style scoped>\n",
       "    .dataframe tbody tr th:only-of-type {\n",
       "        vertical-align: middle;\n",
       "    }\n",
       "\n",
       "    .dataframe tbody tr th {\n",
       "        vertical-align: top;\n",
       "    }\n",
       "\n",
       "    .dataframe thead th {\n",
       "        text-align: right;\n",
       "    }\n",
       "</style>\n",
       "<table border=\"1\" class=\"dataframe\">\n",
       "  <thead>\n",
       "    <tr style=\"text-align: right;\">\n",
       "      <th></th>\n",
       "      <th>ds</th>\n",
       "      <th>trend</th>\n",
       "      <th>yhat_lower</th>\n",
       "      <th>yhat_upper</th>\n",
       "      <th>trend_lower</th>\n",
       "      <th>trend_upper</th>\n",
       "      <th>additive_terms</th>\n",
       "      <th>additive_terms_lower</th>\n",
       "      <th>additive_terms_upper</th>\n",
       "      <th>death</th>\n",
       "      <th>...</th>\n",
       "      <th>infant</th>\n",
       "      <th>infant_lower</th>\n",
       "      <th>infant_upper</th>\n",
       "      <th>yearly</th>\n",
       "      <th>yearly_lower</th>\n",
       "      <th>yearly_upper</th>\n",
       "      <th>multiplicative_terms</th>\n",
       "      <th>multiplicative_terms_lower</th>\n",
       "      <th>multiplicative_terms_upper</th>\n",
       "      <th>yhat</th>\n",
       "    </tr>\n",
       "  </thead>\n",
       "  <tbody>\n",
       "    <tr>\n",
       "      <th>0</th>\n",
       "      <td>2021-12-31</td>\n",
       "      <td>28.860971</td>\n",
       "      <td>13.816410</td>\n",
       "      <td>24.280789</td>\n",
       "      <td>28.860971</td>\n",
       "      <td>28.860971</td>\n",
       "      <td>-9.620800</td>\n",
       "      <td>-9.620800</td>\n",
       "      <td>-9.620800</td>\n",
       "      <td>-6.610477</td>\n",
       "      <td>...</td>\n",
       "      <td>-11.899917</td>\n",
       "      <td>-11.899917</td>\n",
       "      <td>-11.899917</td>\n",
       "      <td>4.289008</td>\n",
       "      <td>4.289008</td>\n",
       "      <td>4.289008</td>\n",
       "      <td>0.0</td>\n",
       "      <td>0.0</td>\n",
       "      <td>0.0</td>\n",
       "      <td>19.240171</td>\n",
       "    </tr>\n",
       "    <tr>\n",
       "      <th>1</th>\n",
       "      <td>2022-12-31</td>\n",
       "      <td>29.524344</td>\n",
       "      <td>12.602443</td>\n",
       "      <td>23.040978</td>\n",
       "      <td>29.524344</td>\n",
       "      <td>29.524344</td>\n",
       "      <td>-11.896571</td>\n",
       "      <td>-11.896571</td>\n",
       "      <td>-11.896571</td>\n",
       "      <td>-8.108554</td>\n",
       "      <td>...</td>\n",
       "      <td>-11.927994</td>\n",
       "      <td>-11.927994</td>\n",
       "      <td>-11.927994</td>\n",
       "      <td>4.687608</td>\n",
       "      <td>4.687608</td>\n",
       "      <td>4.687608</td>\n",
       "      <td>0.0</td>\n",
       "      <td>0.0</td>\n",
       "      <td>0.0</td>\n",
       "      <td>17.627774</td>\n",
       "    </tr>\n",
       "    <tr>\n",
       "      <th>2</th>\n",
       "      <td>2023-12-31</td>\n",
       "      <td>30.187718</td>\n",
       "      <td>10.115340</td>\n",
       "      <td>20.851593</td>\n",
       "      <td>30.187717</td>\n",
       "      <td>30.187718</td>\n",
       "      <td>-14.682011</td>\n",
       "      <td>-14.682011</td>\n",
       "      <td>-14.682011</td>\n",
       "      <td>-9.844626</td>\n",
       "      <td>...</td>\n",
       "      <td>-11.931191</td>\n",
       "      <td>-11.931191</td>\n",
       "      <td>-11.931191</td>\n",
       "      <td>5.100293</td>\n",
       "      <td>5.100293</td>\n",
       "      <td>5.100293</td>\n",
       "      <td>0.0</td>\n",
       "      <td>0.0</td>\n",
       "      <td>0.0</td>\n",
       "      <td>15.505707</td>\n",
       "    </tr>\n",
       "    <tr>\n",
       "      <th>3</th>\n",
       "      <td>2024-12-31</td>\n",
       "      <td>30.852908</td>\n",
       "      <td>18.299936</td>\n",
       "      <td>28.884078</td>\n",
       "      <td>30.852908</td>\n",
       "      <td>30.852908</td>\n",
       "      <td>-7.234154</td>\n",
       "      <td>-7.234154</td>\n",
       "      <td>-7.234154</td>\n",
       "      <td>-5.967114</td>\n",
       "      <td>...</td>\n",
       "      <td>-12.451291</td>\n",
       "      <td>-12.451291</td>\n",
       "      <td>-12.451291</td>\n",
       "      <td>3.905010</td>\n",
       "      <td>3.905010</td>\n",
       "      <td>3.905010</td>\n",
       "      <td>0.0</td>\n",
       "      <td>0.0</td>\n",
       "      <td>0.0</td>\n",
       "      <td>23.618754</td>\n",
       "    </tr>\n",
       "    <tr>\n",
       "      <th>4</th>\n",
       "      <td>2025-12-31</td>\n",
       "      <td>31.516281</td>\n",
       "      <td>17.132450</td>\n",
       "      <td>27.646254</td>\n",
       "      <td>31.516281</td>\n",
       "      <td>31.516281</td>\n",
       "      <td>-8.996433</td>\n",
       "      <td>-8.996433</td>\n",
       "      <td>-8.996433</td>\n",
       "      <td>-7.224729</td>\n",
       "      <td>...</td>\n",
       "      <td>-12.504654</td>\n",
       "      <td>-12.504654</td>\n",
       "      <td>-12.504654</td>\n",
       "      <td>4.289008</td>\n",
       "      <td>4.289008</td>\n",
       "      <td>4.289008</td>\n",
       "      <td>0.0</td>\n",
       "      <td>0.0</td>\n",
       "      <td>0.0</td>\n",
       "      <td>22.519849</td>\n",
       "    </tr>\n",
       "  </tbody>\n",
       "</table>\n",
       "<p>5 rows × 37 columns</p>\n",
       "</div>"
      ],
      "text/plain": [
       "          ds      trend  yhat_lower  yhat_upper  trend_lower  trend_upper  \\\n",
       "0 2021-12-31  28.860971   13.816410   24.280789    28.860971    28.860971   \n",
       "1 2022-12-31  29.524344   12.602443   23.040978    29.524344    29.524344   \n",
       "2 2023-12-31  30.187718   10.115340   20.851593    30.187717    30.187718   \n",
       "3 2024-12-31  30.852908   18.299936   28.884078    30.852908    30.852908   \n",
       "4 2025-12-31  31.516281   17.132450   27.646254    31.516281    31.516281   \n",
       "\n",
       "   additive_terms  additive_terms_lower  additive_terms_upper     death  ...  \\\n",
       "0       -9.620800             -9.620800             -9.620800 -6.610477  ...   \n",
       "1      -11.896571            -11.896571            -11.896571 -8.108554  ...   \n",
       "2      -14.682011            -14.682011            -14.682011 -9.844626  ...   \n",
       "3       -7.234154             -7.234154             -7.234154 -5.967114  ...   \n",
       "4       -8.996433             -8.996433             -8.996433 -7.224729  ...   \n",
       "\n",
       "      infant  infant_lower  infant_upper    yearly  yearly_lower  \\\n",
       "0 -11.899917    -11.899917    -11.899917  4.289008      4.289008   \n",
       "1 -11.927994    -11.927994    -11.927994  4.687608      4.687608   \n",
       "2 -11.931191    -11.931191    -11.931191  5.100293      5.100293   \n",
       "3 -12.451291    -12.451291    -12.451291  3.905010      3.905010   \n",
       "4 -12.504654    -12.504654    -12.504654  4.289008      4.289008   \n",
       "\n",
       "   yearly_upper  multiplicative_terms  multiplicative_terms_lower  \\\n",
       "0      4.289008                   0.0                         0.0   \n",
       "1      4.687608                   0.0                         0.0   \n",
       "2      5.100293                   0.0                         0.0   \n",
       "3      3.905010                   0.0                         0.0   \n",
       "4      4.289008                   0.0                         0.0   \n",
       "\n",
       "   multiplicative_terms_upper       yhat  \n",
       "0                         0.0  19.240171  \n",
       "1                         0.0  17.627774  \n",
       "2                         0.0  15.505707  \n",
       "3                         0.0  23.618754  \n",
       "4                         0.0  22.519849  \n",
       "\n",
       "[5 rows x 37 columns]"
      ]
     },
     "execution_count": 75,
     "metadata": {},
     "output_type": "execute_result"
    }
   ],
   "source": [
    "final_pred = model.predict(regressor_pred)\n",
    "final_pred"
   ]
  },
  {
   "cell_type": "markdown",
   "metadata": {},
   "source": [
    "**Visualizing forecast**"
   ]
  },
  {
   "cell_type": "code",
   "execution_count": 76,
   "metadata": {},
   "outputs": [],
   "source": [
    "#creating data frame with -1 periods for forecasted values (only for visualizarion pruposes)\n",
    "df_graph = pd.DataFrame()\n",
    "df_graph['ds'] = pd.to_datetime(['2020-01-01','2021-01-01','2022-01-01','2023-01-01','2024-01-01','2025-01-01',])\n",
    "res = np.array(df_train.iloc[-1,1])\n",
    "res = np.append(res, final_pred.yhat)\n",
    "df_graph['y'] = res"
   ]
  },
  {
   "cell_type": "code",
   "execution_count": 77,
   "metadata": {},
   "outputs": [
    {
     "data": {
      "image/png": "[encoded data removed]",
      "text/plain": [
       "<Figure size 1008x432 with 1 Axes>"
      ]
     },
     "metadata": {},
     "output_type": "display_data"
    }
   ],
   "source": [
    "#graphng results using seaborn \n",
    "sns.lineplot(x=df_train['ds'], y=df_train['y']).set(title=\"Spain's Unemployment Rate Forecast using FB Prophet (5 periods)\")\n",
    "sns.lineplot(x=df_graph['ds'], y=df_graph['y'])\n",
    "plt.ylabel('Unemployment rate')\n",
    "plt.xlabel('Date')\n",
    "plt.show()"
   ]
  },
  {
   "cell_type": "markdown",
   "metadata": {},
   "source": [
    "## Conclusions"
   ]
  },
  {
   "cell_type": "code",
   "execution_count": 81,
   "metadata": {},
   "outputs": [
    {
     "name": "stdout",
     "output_type": "stream",
     "text": [
      "----------------------------------------\n",
      "RMSE (Facebook Prophet): 3.19\n",
      "RMSE (LSTM Neural Network): 0.8\n",
      "----------------------------------------\n"
     ]
    }
   ],
   "source": [
    "print('----------'*4)\n",
    "print('RMSE (Facebook Prophet): ' + str(metric_proph))\n",
    "print(\"RMSE (LSTM Neural Network): \" +str(round(np.sqrt(results),2)))\n",
    "print('----------'*4)"
   ]
  },
  {
   "cell_type": "markdown",
   "metadata": {},
   "source": [
    "We can clearly see how the **LSTM model performed better than the Facebook Prophet Model** based on their RMSE. <br>\n",
    "Nevertheless, it is important to have into consideration the following points:\n",
    "*   We have a small amount of observations for training our models adequately \n",
    "*   The LSTM model may perform differently depending on the distribution of observations of every training and valdation sets.\n",
    "*   The FBProphet model is calculated by making individual time series  predictions for every regresssor. Which in turn, has large consequences on the accuracy of our model. (As it is seen with the difference on RMSE values)"
   ]
  },
  {
   "cell_type": "markdown",
   "metadata": {},
   "source": [
    "## Resources \n",
    "*   https://data.oecd.org/interest/short-term-interest-rates.htm\n",
    "*   https://data.worldbank.org/indicator/SP.DYN.IMRT.IN?end=2020&locations=ES&start=2001\n",
    "*   https://data.worldbank.org/indicator/SP.DYN.CDRT.IN?end=2020&locations=ES&start=2001\n",
    "*   https://data.worldbank.org/indicator/BX.KLT.DINV.CD.WD?end=2020&locations=ES&start=2001\n",
    "*   https://data.worldbank.org/indicator/NY.GDP.MKTP.KD.ZG?end=2021&locations=ES&start=2001\n",
    "*   https://data.worldbank.org/indicator/FP.CPI.TOTL.ZG?end=2021&locations=ES&start=2001\n",
    "\n",
    "\n",
    "\n"
   ]
  }
 ],
 "metadata": {
  "kernelspec": {
   "display_name": "Python 3.9.6 64-bit",
   "language": "python",
   "name": "python3"
  },
  "language_info": {
   "codemirror_mode": {
    "name": "ipython",
    "version": 3
   },
   "file_extension": ".py",
   "mimetype": "text/x-python",
   "name": "python",
   "nbconvert_exporter": "python",
   "pygments_lexer": "ipython3",
   "version": "3.9.6"
  },
  "orig_nbformat": 4,
  "vscode": {
   "interpreter": {
    "hash": "14484306f3a114d615cedfc940d7e3c36c4908fe58aba28489e23c95768fd0fc"
   }
  }
 },
 "nbformat": 4,
 "nbformat_minor": 2
}
